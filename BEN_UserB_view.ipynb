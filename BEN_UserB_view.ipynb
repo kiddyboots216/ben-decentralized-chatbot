{
 "cells": [
  {
   "cell_type": "code",
   "execution_count": 2,
   "metadata": {},
   "outputs": [
    {
     "name": "stdout",
     "output_type": "stream",
     "text": [
      "Extracting MNIST-data/train-images-idx3-ubyte.gz\n",
      "Extracting MNIST-data/train-labels-idx1-ubyte.gz\n",
      "Extracting MNIST-data/t10k-images-idx3-ubyte.gz\n",
      "Extracting MNIST-data/t10k-labels-idx1-ubyte.gz\n"
     ]
    },
    {
     "name": "stderr",
     "output_type": "stream",
     "text": [
      "[Server] 2018-04-14 15:46:12,207 DEBUG Starting new HTTP connection (1): 127.0.0.1\n",
      "[Server] 2018-04-14 15:46:12,208 DEBUG http://127.0.0.1:5001 \"GET /api/v0/version?stream-channels=true HTTP/1.1\" 200 None\n",
      "[Server] 2018-04-14 15:46:12,303 DEBUG http://localhost:8545 \"POST / HTTP/1.1\" 200 None\n",
      "[Server] 2018-04-14 15:46:12,310 DEBUG http://localhost:8545 \"POST / HTTP/1.1\" 200 None\n",
      "[Server] 2018-04-14 15:46:12,333 DEBUG http://localhost:8545 \"POST / HTTP/1.1\" 200 None\n",
      "[Server] 2018-04-14 15:46:12,358 DEBUG http://localhost:8545 \"POST / HTTP/1.1\" 200 None\n",
      "[Server] 2018-04-14 15:46:12,366 DEBUG http://localhost:8545 \"POST / HTTP/1.1\" 200 None\n",
      "[Server] 2018-04-14 15:46:12,384 DEBUG http://localhost:8545 \"POST / HTTP/1.1\" 200 None\n",
      "[Server] 2018-04-14 15:46:12,439 DEBUG http://localhost:8545 \"POST / HTTP/1.1\" 200 None\n",
      "[Server] 2018-04-14 15:46:12,449 DEBUG http://localhost:8545 \"POST / HTTP/1.1\" 200 None\n",
      "[Server] 2018-04-14 15:46:12,509 DEBUG http://localhost:8545 \"POST / HTTP/1.1\" 200 None\n",
      "[Server] 2018-04-14 15:46:12,517 DEBUG http://localhost:8545 \"POST / HTTP/1.1\" 200 None\n",
      "[Server] 2018-04-14 15:46:12,526 DEBUG http://localhost:8545 \"POST / HTTP/1.1\" 200 None\n"
     ]
    },
    {
     "name": "stdout",
     "output_type": "stream",
     "text": [
      "Client Address: 0x29C651bF098AF86cDBaa319Af365092A59cf3BAB\n",
      "9999999\n"
     ]
    },
    {
     "name": "stderr",
     "output_type": "stream",
     "text": [
      "[Server] 2018-04-14 15:46:12,608 DEBUG http://localhost:8545 \"POST / HTTP/1.1\" 200 None\n",
      "[Server] 2018-04-14 15:46:12,622 DEBUG http://localhost:8545 \"POST / HTTP/1.1\" 200 None\n"
     ]
    },
    {
     "name": "stdout",
     "output_type": "stream",
     "text": [
      "Delegator Address 0x0DD4Ed47a82F842dEe8DAB78967936d88B74901d\n"
     ]
    }
   ],
   "source": [
    "from web3 import Web3, HTTPProvider\n",
    "from client import Client\n",
    "import experiment\n",
    "\n",
    "k = 1\n",
    "m = 'perceptron'\n",
    "d = 'iid'\n",
    "\n",
    "web3 = Web3(HTTPProvider('http://localhost:8545'))\n",
    "\n",
    "X_train_list, y_train_list, X_test, y_test = experiment.get_datasets(k, m, d)\n",
    "\n",
    "clientA = Client(0, X_train_list, y_train_list, web3)\n",
    "\n",
    "clientA.get_money()\n",
    "delegator_address = clientA.Delegator_address\n",
    "print(\"Delegator Address\", delegator_address)"
   ]
  },
  {
   "cell_type": "code",
   "execution_count": 4,
   "metadata": {},
   "outputs": [
    {
     "name": "stderr",
     "output_type": "stream",
     "text": [
      "[Server] 2018-04-14 15:46:34,075 DEBUG Resetting dropped connection: localhost\n",
      "[Server] 2018-04-14 15:46:34,167 DEBUG http://localhost:8545 \"POST / HTTP/1.1\" 200 None\n",
      "[Server] 2018-04-14 15:46:34,173 DEBUG http://localhost:8545 \"POST / HTTP/1.1\" 200 None\n",
      "[Server] 2018-04-14 15:46:34,179 DEBUG http://localhost:8545 \"POST / HTTP/1.1\" 200 None\n",
      "[Server] 2018-04-14 15:46:34,306 DEBUG http://localhost:8545 \"POST / HTTP/1.1\" 200 None\n",
      "[Server] 2018-04-14 15:46:34,350 DEBUG http://localhost:8545 \"POST / HTTP/1.1\" 200 None\n"
     ]
    },
    {
     "name": "stdout",
     "output_type": "stream",
     "text": [
      "AttributeDict({'transactionHash': HexBytes('0x776e2ecd7420cf98b16eafe2cb55caec8b2c04db5900620202daf90dacc7e97a'), 'transactionIndex': 0, 'blockHash': HexBytes('0x937bbbc95ecd189fdb331e126dceebbd32b72d86790550a5523153537bbcf615'), 'blockNumber': 222, 'gasUsed': 679021, 'cumulativeGasUsed': 679021, 'contractAddress': None, 'logs': [AttributeDict({'logIndex': 0, 'transactionIndex': 0, 'transactionHash': HexBytes('0x776e2ecd7420cf98b16eafe2cb55caec8b2c04db5900620202daf90dacc7e97a'), 'blockHash': HexBytes('0x937bbbc95ecd189fdb331e126dceebbd32b72d86790550a5523153537bbcf615'), 'blockNumber': 222, 'address': '0x0DD4Ed47a82F842dEe8DAB78967936d88B74901d', 'data': '0x000000000000000000000000c855b77a81e1bb074f9d0b79312bb4215eca23f5000000000000000000000000be3ef518b436b382a83b8d38457177c36f28399a', 'topics': [HexBytes('0x998531445404b0df49aad4b4e2cef56293d4e7e97290d2504c4276b065d05c0a')], 'type': 'mined'}), AttributeDict({'logIndex': 1, 'transactionIndex': 0, 'transactionHash': HexBytes('0x776e2ecd7420cf98b16eafe2cb55caec8b2c04db5900620202daf90dacc7e97a'), 'blockHash': HexBytes('0x937bbbc95ecd189fdb331e126dceebbd32b72d86790550a5523153537bbcf615'), 'blockNumber': 222, 'address': '0x0DD4Ed47a82F842dEe8DAB78967936d88B74901d', 'data': '0x000000000000000000000000c855b77a81e1bb074f9d0b79312bb4215eca23f5000000000000000000000000be3ef518b436b382a83b8d38457177c36f28399a', 'topics': [HexBytes('0x998531445404b0df49aad4b4e2cef56293d4e7e97290d2504c4276b065d05c0a')], 'type': 'mined'})], 'status': 1, 'logsBloom': HexBytes('0x00000000000000000000000000000000000000000000000000000000000000080000000000000000000000000000000000000000000000000000000000000000000000000000000000000000000000000000000000000000000000000000000000000000000080000000000000000000000000000010000000000000000000000000000000000000000000000000000400000000000000000000000000000000000000000000000000000000000000000000000000000000000000000000000000400000000000000000000000000000000000000000000000008000000000000000000000000000000000000000000000000000000000000000000000000000')})\n",
      "None\n"
     ]
    }
   ],
   "source": [
    "CLIENT_ADDRESS = '0xC855B77a81E1BB074F9D0B79312bB4215EcA23f5'\n",
    "\n",
    "print(clientA.launch_query(CLIENT_ADDRESS))"
   ]
  },
  {
   "cell_type": "code",
   "execution_count": 5,
   "metadata": {},
   "outputs": [
    {
     "name": "stderr",
     "output_type": "stream",
     "text": [
      "[Server] 2018-04-14 15:46:40,146 DEBUG Resetting dropped connection: localhost\n",
      "[Server] 2018-04-14 15:46:40,181 DEBUG http://localhost:8545 \"POST / HTTP/1.1\" 200 None\n",
      "[Server] 2018-04-14 15:46:40,192 DEBUG http://localhost:8545 \"POST / HTTP/1.1\" 200 None\n",
      "[Server] 2018-04-14 15:46:40,206 DEBUG http://localhost:8545 \"POST / HTTP/1.1\" 200 None\n",
      "[Server] 2018-04-14 15:46:40,259 DEBUG http://localhost:8545 \"POST / HTTP/1.1\" 200 None\n",
      "[Server] 2018-04-14 15:46:40,290 DEBUG http://localhost:8545 \"POST / HTTP/1.1\" 200 None\n"
     ]
    },
    {
     "name": "stdout",
     "output_type": "stream",
     "text": [
      "AttributeDict({'transactionHash': HexBytes('0xa075697f6fad5982915576da176a104f19c1b88a3ac7e4ac64fcf265d00b1106'), 'transactionIndex': 0, 'blockHash': HexBytes('0x348e6a5178e47e4a484c720f445ec8e1d71a2f4ecde9ea6bd232407ef325f890'), 'blockNumber': 223, 'gasUsed': 29424, 'cumulativeGasUsed': 29424, 'contractAddress': None, 'logs': [AttributeDict({'logIndex': 0, 'transactionIndex': 0, 'transactionHash': HexBytes('0xa075697f6fad5982915576da176a104f19c1b88a3ac7e4ac64fcf265d00b1106'), 'blockHash': HexBytes('0x348e6a5178e47e4a484c720f445ec8e1d71a2f4ecde9ea6bd232407ef325f890'), 'blockNumber': 223, 'address': '0xbe3EF518B436B382a83b8D38457177C36F28399a', 'data': '0x000000000000000000000000c855b77a81e1bb074f9d0b79312bb4215eca23f50000000000000000000000000000000000000000000000000000000000000040000000000000000000000000000000000000000000000000000000000000002e516d566d347942326a785077585856584d366e383654757741346a43513745664e506a67754672686f436250694a000000000000000000000000000000000000', 'topics': [HexBytes('0xedc9922223a88c2dbd92d3463fbe4141e7f3b1e7b8b4253b3e69d9d5ebfb28e2')], 'type': 'mined'}), AttributeDict({'logIndex': 1, 'transactionIndex': 0, 'transactionHash': HexBytes('0xa075697f6fad5982915576da176a104f19c1b88a3ac7e4ac64fcf265d00b1106'), 'blockHash': HexBytes('0x348e6a5178e47e4a484c720f445ec8e1d71a2f4ecde9ea6bd232407ef325f890'), 'blockNumber': 223, 'address': '0xbe3EF518B436B382a83b8D38457177C36F28399a', 'data': '0x000000000000000000000000c855b77a81e1bb074f9d0b79312bb4215eca23f50000000000000000000000000000000000000000000000000000000000000040000000000000000000000000000000000000000000000000000000000000002e516d566d347942326a785077585856584d366e383654757741346a43513745664e506a67754672686f436250694a000000000000000000000000000000000000', 'topics': [HexBytes('0xedc9922223a88c2dbd92d3463fbe4141e7f3b1e7b8b4253b3e69d9d5ebfb28e2')], 'type': 'mined'})], 'status': 1, 'logsBloom': HexBytes('0x00000000000000000000000000000000000000000000000000000000000000000000000000000000000000000000000000000000008000000000000000000000000000000000000000000000000000000000000000000440000000000000000000000000000000000000000000000000000000000000000000000000000000000000000000000000000000000000000000000000000000000000010000000000000000000000000000000000000000000000000000000000000000000000000000000000000000000000000000000000000000000000000000002000000000000000000000000000020000000000000000000000000000000000000000000000')})\n"
     ]
    }
   ],
   "source": [
    "print(clientA.ping_client())"
   ]
  },
  {
   "cell_type": "code",
   "execution_count": null,
   "metadata": {},
   "outputs": [],
   "source": []
  }
 ],
 "metadata": {
  "kernelspec": {
   "display_name": "Python 3",
   "language": "python",
   "name": "python3"
  },
  "language_info": {
   "codemirror_mode": {
    "name": "ipython",
    "version": 3
   },
   "file_extension": ".py",
   "mimetype": "text/x-python",
   "name": "python",
   "nbconvert_exporter": "python",
   "pygments_lexer": "ipython3",
   "version": "3.6.4"
  }
 },
 "nbformat": 4,
 "nbformat_minor": 2
}
