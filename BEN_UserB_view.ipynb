{
 "cells": [
  {
   "cell_type": "code",
   "execution_count": 1,
   "metadata": {},
   "outputs": [
    {
     "name": "stderr",
     "output_type": "stream",
     "text": [
      "/usr/local/lib/python3.6/site-packages/h5py/__init__.py:36: FutureWarning: Conversion of the second argument of issubdtype from `float` to `np.floating` is deprecated. In future, it will be treated as `np.float64 == np.dtype(float).type`.\n",
      "  from ._conv import register_converters as _register_converters\n",
      "Using TensorFlow backend.\n"
     ]
    }
   ],
   "source": [
    "from web3 import Web3, HTTPProvider\n",
    "from client import Client\n",
    "\n",
    "\n",
    "web3 = Web3(HTTPProvider('http://localhost:8545'))"
   ]
  },
  {
   "cell_type": "code",
   "execution_count": 2,
   "metadata": {},
   "outputs": [
    {
     "name": "stdout",
     "output_type": "stream",
     "text": [
      "Client Address: 0xA88Bb69f5efB59C255b76D37C09e8b47c5EE03FA\n",
      "9999999\n"
     ]
    }
   ],
   "source": [
    "DELEGATOR_ADDRESS = '0x00a68Ee30bCea46507F64eF3a10A354B31D6A5A0'\n",
    "\n",
    "clientB = Client(1, web3, delegatorAddress=DELEGATOR_ADDRESS)\n",
    "clientB.get_money()"
   ]
  },
  {
   "cell_type": "code",
   "execution_count": null,
   "metadata": {},
   "outputs": [
    {
     "name": "stdout",
     "output_type": "stream",
     "text": [
      "{'logIndex': 0, 'transactionIndex': 0, 'transactionHash': HexBytes('0x7a5cd5aa0771ae08173fec12c81ef2f4bf0907e797d7623a168b3d92b5f0145e'), 'blockHash': HexBytes('0xf1d7d26a99e727927ee93006064c94ec1b310995b192a81773277fc08d00cac0'), 'blockNumber': 364, 'address': '0x00a68Ee30bCea46507F64eF3a10A354B31D6A5A0', 'data': '0x000000000000000000000000a88bb69f5efb59c255b76d37c09e8b47c5ee03fa0000000000000000000000006162a699d8c899a0f706940d3aa7e80f702d7655', 'topics': [HexBytes('0x998531445404b0df49aad4b4e2cef56293d4e7e97290d2504c4276b065d05c0a')], 'type': 'mined'}\n",
      "0x000000000000000000000000a88bb69f5efb59c255b76d37c09e8b47c5ee03fa0000000000000000000000006162a699d8c899a0f706940d3aa7e80f702d7655\n",
      "0x6162a699d8c899a0f706940d3aa7e80f702d7655\n",
      "{'logIndex': 0, 'transactionIndex': 0, 'transactionHash': HexBytes('0x47e85d69a07dd410ca7ce64e041ee2c7fa2dd35ffc10bc9d81c54ca2b498e9c0'), 'blockHash': HexBytes('0xbdaf5e01464f312998e5ce447754a133b6af8181b55d2936aebbf0161bf21b04'), 'blockNumber': 365, 'address': '0x6162A699D8C899a0f706940D3aA7e80f702D7655', 'data': '0x000000000000000000000000a88bb69f5efb59c255b76d37c09e8b47c5ee03fa0000000000000000000000000000000000000000000000000000000000000040000000000000000000000000000000000000000000000000000000000000002e516d566d347942326a785077585856584d366e383654757741346a43513745664e506a67754672686f436250694a000000000000000000000000000000000000', 'topics': [HexBytes('0xedc9922223a88c2dbd92d3463fbe4141e7f3b1e7b8b4253b3e69d9d5ebfb28e2')], 'type': 'mined'}\n",
      "IPFS address: QmVm4yB2jxPwXXVXM6n86TuwA4jCQ7EfNPjguFrhoCbPiJ\n",
      "Reading the context data...\n",
      "Reading the answer data...\n",
      "Tokenazing the answers...\n",
      "Using vocabulary of size 7000.\n",
      "The least frequent word in our vocabulary is 'airlock' and appeared 80 times.\n",
      "Number of exemples = 5\n",
      "Training epoch: 0, training examples: 0 - 5\n",
      "Epoch 1/1\n",
      "18/18 [==============================] - 4s 218ms/step - loss: 4.2997\n",
      "listening for next round to begin...\n"
     ]
    }
   ],
   "source": [
    "print(clientB.main())"
   ]
  },
  {
   "cell_type": "code",
   "execution_count": null,
   "metadata": {},
   "outputs": [],
   "source": []
  }
 ],
 "metadata": {
  "kernelspec": {
   "display_name": "Python 3",
   "language": "python",
   "name": "python3"
  },
  "language_info": {
   "codemirror_mode": {
    "name": "ipython",
    "version": 3
   },
   "file_extension": ".py",
   "mimetype": "text/x-python",
   "name": "python",
   "nbconvert_exporter": "python",
   "pygments_lexer": "ipython3",
   "version": "3.6.4"
  }
 },
 "nbformat": 4,
 "nbformat_minor": 2
}
