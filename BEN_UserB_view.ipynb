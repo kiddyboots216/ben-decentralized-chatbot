{
 "cells": [
  {
   "cell_type": "code",
   "execution_count": 2,
   "metadata": {},
   "outputs": [
    {
     "name": "stdout",
     "output_type": "stream",
     "text": [
      "Extracting MNIST-data/train-images-idx3-ubyte.gz\n",
      "Extracting MNIST-data/train-labels-idx1-ubyte.gz\n",
      "Extracting MNIST-data/t10k-images-idx3-ubyte.gz\n",
      "Extracting MNIST-data/t10k-labels-idx1-ubyte.gz\n"
     ]
    },
    {
     "name": "stderr",
     "output_type": "stream",
     "text": [
      "[Server] 2018-04-14 16:00:52,683 DEBUG Starting new HTTP connection (1): 127.0.0.1\n",
      "[Server] 2018-04-14 16:00:52,685 DEBUG http://127.0.0.1:5001 \"GET /api/v0/version?stream-channels=true HTTP/1.1\" 200 None\n",
      "[Server] 2018-04-14 16:00:52,799 DEBUG http://localhost:8545 \"POST / HTTP/1.1\" 200 None\n",
      "[Server] 2018-04-14 16:00:52,809 DEBUG http://localhost:8545 \"POST / HTTP/1.1\" 200 None\n",
      "[Server] 2018-04-14 16:00:52,840 DEBUG http://localhost:8545 \"POST / HTTP/1.1\" 200 None\n",
      "[Server] 2018-04-14 16:00:52,865 DEBUG http://localhost:8545 \"POST / HTTP/1.1\" 200 None\n",
      "[Server] 2018-04-14 16:00:52,872 DEBUG http://localhost:8545 \"POST / HTTP/1.1\" 200 None\n",
      "[Server] 2018-04-14 16:00:52,889 DEBUG http://localhost:8545 \"POST / HTTP/1.1\" 200 None\n",
      "[Server] 2018-04-14 16:00:52,934 DEBUG http://localhost:8545 \"POST / HTTP/1.1\" 200 None\n",
      "[Server] 2018-04-14 16:00:52,942 DEBUG http://localhost:8545 \"POST / HTTP/1.1\" 200 None\n",
      "[Server] 2018-04-14 16:00:52,986 DEBUG http://localhost:8545 \"POST / HTTP/1.1\" 200 None\n",
      "[Server] 2018-04-14 16:00:52,996 DEBUG http://localhost:8545 \"POST / HTTP/1.1\" 200 None\n",
      "[Server] 2018-04-14 16:00:53,005 DEBUG http://localhost:8545 \"POST / HTTP/1.1\" 200 None\n"
     ]
    },
    {
     "name": "stdout",
     "output_type": "stream",
     "text": [
      "Client Address: 0x2E8e65AA9A815e4e6aCb14110f74F8DDbd4170aF\n",
      "9999999\n"
     ]
    },
    {
     "name": "stderr",
     "output_type": "stream",
     "text": [
      "[Server] 2018-04-14 16:00:53,092 DEBUG http://localhost:8545 \"POST / HTTP/1.1\" 200 None\n",
      "[Server] 2018-04-14 16:00:53,110 DEBUG http://localhost:8545 \"POST / HTTP/1.1\" 200 None\n"
     ]
    },
    {
     "name": "stdout",
     "output_type": "stream",
     "text": [
      "Delegator Address 0x9D265aeA89F61464078c319A735e0d0c293604b0\n"
     ]
    }
   ],
   "source": [
    "from web3 import Web3, HTTPProvider\n",
    "from client import Client\n",
    "import experiment\n",
    "\n",
    "k = 1\n",
    "m = 'perceptron'\n",
    "d = 'iid'\n",
    "\n",
    "web3 = Web3(HTTPProvider('http://localhost:8545'))\n",
    "\n",
    "X_train_list, y_train_list, X_test, y_test = experiment.get_datasets(k, m, d)\n",
    "\n",
    "clientA = Client(0, X_train_list, y_train_list, web3)\n",
    "\n",
    "clientA.get_money()\n",
    "delegator_address = clientA.Delegator_address\n",
    "print(\"Delegator Address\", delegator_address)"
   ]
  },
  {
   "cell_type": "code",
   "execution_count": 3,
   "metadata": {},
   "outputs": [
    {
     "name": "stderr",
     "output_type": "stream",
     "text": [
      "[Server] 2018-04-14 16:01:09,397 DEBUG Resetting dropped connection: localhost\n",
      "[Server] 2018-04-14 16:01:09,491 DEBUG http://localhost:8545 \"POST / HTTP/1.1\" 200 None\n",
      "[Server] 2018-04-14 16:01:09,500 DEBUG http://localhost:8545 \"POST / HTTP/1.1\" 200 None\n",
      "[Server] 2018-04-14 16:01:09,507 DEBUG http://localhost:8545 \"POST / HTTP/1.1\" 200 None\n",
      "[Server] 2018-04-14 16:01:09,597 DEBUG http://localhost:8545 \"POST / HTTP/1.1\" 200 None\n",
      "[Server] 2018-04-14 16:01:09,621 DEBUG http://localhost:8545 \"POST / HTTP/1.1\" 200 None\n"
     ]
    },
    {
     "name": "stdout",
     "output_type": "stream",
     "text": [
      "AttributeDict({'transactionHash': HexBytes('0x36745cee1489268d2a4b7e29ffa7c7bb622e50eee669e432e69a4b6931d2a759'), 'transactionIndex': 0, 'blockHash': HexBytes('0xebb88d54b5d4c10765a8d9be8a9766a88f1bef127ff4c25555d6468042f88c61'), 'blockNumber': 269, 'gasUsed': 686386, 'cumulativeGasUsed': 686386, 'contractAddress': None, 'logs': [AttributeDict({'logIndex': 0, 'transactionIndex': 0, 'transactionHash': HexBytes('0x36745cee1489268d2a4b7e29ffa7c7bb622e50eee669e432e69a4b6931d2a759'), 'blockHash': HexBytes('0xebb88d54b5d4c10765a8d9be8a9766a88f1bef127ff4c25555d6468042f88c61'), 'blockNumber': 269, 'address': '0x9D265aeA89F61464078c319A735e0d0c293604b0', 'data': '0x00000000000000000000000076ecb493ff1f17c466ac9d781f6ac6f49f83635e000000000000000000000000596e209052e80203ffdf9094be53c07628886995', 'topics': [HexBytes('0x998531445404b0df49aad4b4e2cef56293d4e7e97290d2504c4276b065d05c0a')], 'type': 'mined'})], 'status': 1, 'logsBloom': HexBytes('0x00000000000000000000000000000000000000000000000000001000000000080000000000000000000000000000000000000000000000000000000000000000000000000000000000000000000000000000000000000000000000000000000000000000000000000000000000000000000000000010000000000000000000000000000000000000000000000000000400000000000000000000000000000004000000000000000000000000000000000000000000000000000000000000400000000000000000000000000000000000000000000000000000000000000000000000000000000000000000000000000000000000000000000000000000000000')})\n",
      "None\n"
     ]
    }
   ],
   "source": [
    "CLIENT_ADDRESS = '0x76ecB493Ff1F17C466ac9d781f6Ac6F49f83635e'\n",
    "\n",
    "print(clientA.launch_query(CLIENT_ADDRESS))"
   ]
  },
  {
   "cell_type": "code",
   "execution_count": 4,
   "metadata": {},
   "outputs": [
    {
     "name": "stderr",
     "output_type": "stream",
     "text": [
      "[Server] 2018-04-14 16:01:11,752 DEBUG http://localhost:8545 \"POST / HTTP/1.1\" 200 None\n",
      "[Server] 2018-04-14 16:01:11,758 DEBUG http://localhost:8545 \"POST / HTTP/1.1\" 200 None\n",
      "[Server] 2018-04-14 16:01:11,765 DEBUG http://localhost:8545 \"POST / HTTP/1.1\" 200 None\n",
      "[Server] 2018-04-14 16:01:11,873 DEBUG http://localhost:8545 \"POST / HTTP/1.1\" 200 None\n",
      "[Server] 2018-04-14 16:01:11,893 DEBUG http://localhost:8545 \"POST / HTTP/1.1\" 200 None\n"
     ]
    },
    {
     "name": "stdout",
     "output_type": "stream",
     "text": [
      "AttributeDict({'transactionHash': HexBytes('0xb1d8d5a05c98f033c4c553e4250a4736871dc52faf58ad3df7f821794bb3f19c'), 'transactionIndex': 0, 'blockHash': HexBytes('0x9f03b8254cef7567599bf7f4f1f0ce265064ac0d2421728d2ed06c59886a5e33'), 'blockNumber': 270, 'gasUsed': 25572, 'cumulativeGasUsed': 25572, 'contractAddress': None, 'logs': [AttributeDict({'logIndex': 0, 'transactionIndex': 0, 'transactionHash': HexBytes('0xb1d8d5a05c98f033c4c553e4250a4736871dc52faf58ad3df7f821794bb3f19c'), 'blockHash': HexBytes('0x9f03b8254cef7567599bf7f4f1f0ce265064ac0d2421728d2ed06c59886a5e33'), 'blockNumber': 270, 'address': '0x596e209052e80203Ffdf9094Be53c07628886995', 'data': '0x00000000000000000000000076ecb493ff1f17c466ac9d781f6ac6f49f83635e0000000000000000000000000000000000000000000000000000000000000040000000000000000000000000000000000000000000000000000000000000002e516d566d347942326a785077585856584d366e383654757741346a43513745664e506a67754672686f436250694a000000000000000000000000000000000000', 'topics': [HexBytes('0xedc9922223a88c2dbd92d3463fbe4141e7f3b1e7b8b4253b3e69d9d5ebfb28e2')], 'type': 'mined'})], 'status': 1, 'logsBloom': HexBytes('0x00000000000000000000000000000000000000000000000000200000000000000000000000000000000000000000000000000000000000000000000000000000000000000000000000000000000000000000000000000040000000000000000000000000000000000000000000000002000000000000000000000000000000000000000000000000000000000000000000000000000000000000010000000000000000000000000000000000000000000000000000000000000000000000000000000000000000000000000000000000008000000000000000002000000000000000000000000000000000000000000000000000000000000000000000000000')})\n"
     ]
    }
   ],
   "source": [
    "print(clientA.ping_client())"
   ]
  },
  {
   "cell_type": "code",
   "execution_count": null,
   "metadata": {},
   "outputs": [],
   "source": []
  }
 ],
 "metadata": {
  "kernelspec": {
   "display_name": "Python 3",
   "language": "python",
   "name": "python3"
  },
  "language_info": {
   "codemirror_mode": {
    "name": "ipython",
    "version": 3
   },
   "file_extension": ".py",
   "mimetype": "text/x-python",
   "name": "python",
   "nbconvert_exporter": "python",
   "pygments_lexer": "ipython3",
   "version": "3.6.4"
  }
 },
 "nbformat": 4,
 "nbformat_minor": 2
}
