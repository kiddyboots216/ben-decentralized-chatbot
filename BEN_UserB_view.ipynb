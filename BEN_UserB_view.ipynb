{
 "cells": [
  {
   "cell_type": "code",
   "execution_count": 1,
   "metadata": {},
   "outputs": [
    {
     "name": "stderr",
     "output_type": "stream",
     "text": [
      "/usr/local/lib/python3.6/site-packages/h5py/__init__.py:36: FutureWarning: Conversion of the second argument of issubdtype from `float` to `np.floating` is deprecated. In future, it will be treated as `np.float64 == np.dtype(float).type`.\n",
      "  from ._conv import register_converters as _register_converters\n",
      "Using TensorFlow backend.\n"
     ]
    }
   ],
   "source": [
    "from web3 import Web3, HTTPProvider\n",
    "from client import Client\n",
    "\n",
    "\n",
    "web3 = Web3(HTTPProvider('http://localhost:8545'))"
   ]
  },
  {
   "cell_type": "code",
   "execution_count": 2,
   "metadata": {},
   "outputs": [
    {
     "name": "stdout",
     "output_type": "stream",
     "text": [
      "Client Address: 0xA54Adc2301a1Ff053F1d4885fB172BE4ABC57787\n",
      "9999999\n"
     ]
    }
   ],
   "source": [
    "with open('delegator_addr', 'r') as d:\n",
    "    DELEGATOR_ADDRESS = d.read()\n",
    "    d.close\n",
    "\n",
    "clientB = Client(1, web3, delegatorAddress=DELEGATOR_ADDRESS)\n",
    "clientB.get_money()\n",
    "\n",
    "with open('client_addr', 'w') as c:\n",
    "    c.write(clientB.clientAddress)\n",
    "    c.close"
   ]
  },
  {
   "cell_type": "code",
   "execution_count": null,
   "metadata": {},
   "outputs": [
    {
     "name": "stdout",
     "output_type": "stream",
     "text": [
      "{'logIndex': 0, 'transactionIndex': 0, 'transactionHash': HexBytes('0x2441dd2138ad7d714dd725d4795af9fce9d312f9b8b76b89cd1efcf204aa8108'), 'blockHash': HexBytes('0xc4dd3372090df893aecd3c8e2d60eacc511f890a587108dda9c1956c713de009'), 'blockNumber': 36, 'address': '0xEcd0775716427f4342e368139D1eD55873FD377c', 'data': '0x000000000000000000000000a54adc2301a1ff053f1d4885fb172be4abc57787000000000000000000000000d3e72fff5b30359e6ef4d558476e8972c8b90666', 'topics': [HexBytes('0x998531445404b0df49aad4b4e2cef56293d4e7e97290d2504c4276b065d05c0a')], 'type': 'mined'}\n",
      "0x000000000000000000000000a54adc2301a1ff053f1d4885fb172be4abc57787000000000000000000000000d3e72fff5b30359e6ef4d558476e8972c8b90666\n",
      "0xd3e72fff5b30359e6ef4d558476e8972c8b90666\n",
      "{'logIndex': 0, 'transactionIndex': 0, 'transactionHash': HexBytes('0xd0c359b5a9eea295d9abf9b1bab6849814d0e0e68045f1a3c6113540c12f4c4f'), 'blockHash': HexBytes('0x53f2b984908c1d240314fded84bb18496ec9a808d6fd7dc5939a3ced22c7f7da'), 'blockNumber': 38, 'address': '0xd3e72ffF5B30359E6ef4D558476E8972c8b90666', 'data': '0x000000000000000000000000a54adc2301a1ff053f1d4885fb172be4abc577870000000000000000000000000000000000000000000000000000000000000040000000000000000000000000000000000000000000000000000000000000002e516d566d347942326a785077585856584d366e383654757741346a43513745664e506a67754672686f436250694a000000000000000000000000000000000000', 'topics': [HexBytes('0xedc9922223a88c2dbd92d3463fbe4141e7f3b1e7b8b4253b3e69d9d5ebfb28e2')], 'type': 'mined'}\n",
      "IPFS address: QmVm4yB2jxPwXXVXM6n86TuwA4jCQ7EfNPjguFrhoCbPiJ\n",
      "Reading the context data...\n",
      "Reading the answer data...\n",
      "Tokenazing the answers...\n",
      "Using vocabulary of size 7000.\n",
      "The least frequent word in our vocabulary is 'airlock' and appeared 80 times.\n",
      "Number of exemples = 5\n",
      "Training epoch: 0, training examples: 0 - 5\n",
      "Epoch 1/1\n",
      "18/18 [==============================] - 3s 176ms/step - loss: 4.2997\n",
      "listening for next round to begin...\n"
     ]
    }
   ],
   "source": [
    "print(clientB.main())"
   ]
  },
  {
   "cell_type": "code",
   "execution_count": null,
   "metadata": {},
   "outputs": [],
   "source": []
  }
 ],
 "metadata": {
  "kernelspec": {
   "display_name": "Python 3",
   "language": "python",
   "name": "python3"
  },
  "language_info": {
   "codemirror_mode": {
    "name": "ipython",
    "version": 3
   },
   "file_extension": ".py",
   "mimetype": "text/x-python",
   "name": "python",
   "nbconvert_exporter": "python",
   "pygments_lexer": "ipython3",
   "version": "3.6.4"
  }
 },
 "nbformat": 4,
 "nbformat_minor": 2
}
