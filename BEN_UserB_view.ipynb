{
 "cells": [
  {
   "cell_type": "code",
   "execution_count": 2,
   "metadata": {},
   "outputs": [
    {
     "name": "stdout",
     "output_type": "stream",
     "text": [
      "Extracting MNIST-data/train-images-idx3-ubyte.gz\n",
      "Extracting MNIST-data/train-labels-idx1-ubyte.gz\n",
      "Extracting MNIST-data/t10k-images-idx3-ubyte.gz\n",
      "Extracting MNIST-data/t10k-labels-idx1-ubyte.gz\n"
     ]
    },
    {
     "name": "stderr",
     "output_type": "stream",
     "text": [
      "[Server] 2018-04-14 14:03:28,924 DEBUG http://localhost:8545 \"POST / HTTP/1.1\" 200 None\n",
      "[Server] 2018-04-14 14:03:28,931 DEBUG http://localhost:8545 \"POST / HTTP/1.1\" 200 None\n",
      "[Server] 2018-04-14 14:03:28,955 DEBUG http://localhost:8545 \"POST / HTTP/1.1\" 200 None\n",
      "[Server] 2018-04-14 14:03:28,976 DEBUG http://localhost:8545 \"POST / HTTP/1.1\" 200 None\n",
      "[Server] 2018-04-14 14:03:28,983 DEBUG http://localhost:8545 \"POST / HTTP/1.1\" 200 None\n",
      "[Server] 2018-04-14 14:03:28,992 DEBUG http://localhost:8545 \"POST / HTTP/1.1\" 200 None\n",
      "[Server] 2018-04-14 14:03:29,130 DEBUG http://localhost:8545 \"POST / HTTP/1.1\" 200 None\n"
     ]
    },
    {
     "name": "stdout",
     "output_type": "stream",
     "text": [
      "Client Address: 0xe9319E04739D030c9B52516C2A2B9caeA022B462\n"
     ]
    },
    {
     "name": "stderr",
     "output_type": "stream",
     "text": [
      "[Server] 2018-04-14 14:03:29,156 DEBUG http://localhost:8545 \"POST / HTTP/1.1\" 200 None\n",
      "[Server] 2018-04-14 14:03:29,206 DEBUG http://localhost:8545 \"POST / HTTP/1.1\" 200 None\n",
      "[Server] 2018-04-14 14:03:29,220 DEBUG http://localhost:8545 \"POST / HTTP/1.1\" 200 None\n",
      "[Server] 2018-04-14 14:03:29,231 DEBUG http://localhost:8545 \"POST / HTTP/1.1\" 200 None\n",
      "[Server] 2018-04-14 14:03:29,274 DEBUG http://localhost:8545 \"POST / HTTP/1.1\" 200 None\n",
      "[Server] 2018-04-14 14:03:29,287 DEBUG http://localhost:8545 \"POST / HTTP/1.1\" 200 None\n"
     ]
    },
    {
     "name": "stdout",
     "output_type": "stream",
     "text": [
      "9999999\n",
      "Delegator Address 0xD2FeAa80D1977E63f5333073453073011Cc0A616\n"
     ]
    }
   ],
   "source": [
    "from web3 import Web3, HTTPProvider\n",
    "from client import Client\n",
    "import experiment\n",
    "\n",
    "k = 1\n",
    "m = 'perceptron'\n",
    "d = 'iid'\n",
    "\n",
    "web3 = Web3(HTTPProvider('http://localhost:8545'))\n",
    "\n",
    "X_train_list, y_train_list, X_test, y_test = experiment.get_datasets(k, m, d)\n",
    "\n",
    "clientA = Client(0, X_train_list, y_train_list, web3)\n",
    "\n",
    "clientA.get_money()\n",
    "delegator_address = clientA.Delegator_address\n",
    "print(\"Delegator Address\", delegator_address)"
   ]
  },
  {
   "cell_type": "code",
   "execution_count": 3,
   "metadata": {},
   "outputs": [
    {
     "name": "stderr",
     "output_type": "stream",
     "text": [
      "[Server] 2018-04-14 14:04:17,841 DEBUG Resetting dropped connection: localhost\n",
      "[Server] 2018-04-14 14:04:17,887 DEBUG http://localhost:8545 \"POST / HTTP/1.1\" 200 None\n",
      "[Server] 2018-04-14 14:04:17,893 DEBUG http://localhost:8545 \"POST / HTTP/1.1\" 200 None\n",
      "[Server] 2018-04-14 14:04:17,901 DEBUG http://localhost:8545 \"POST / HTTP/1.1\" 200 None\n",
      "[Server] 2018-04-14 14:04:18,174 DEBUG http://localhost:8545 \"POST / HTTP/1.1\" 200 None\n",
      "[Server] 2018-04-14 14:04:18,199 DEBUG http://localhost:8545 \"POST / HTTP/1.1\" 200 None\n"
     ]
    },
    {
     "name": "stdout",
     "output_type": "stream",
     "text": [
      "AttributeDict({'transactionHash': HexBytes('0xbff95a585f9ddffb48a6f35f7a373819f46901eb0bc43ea3578fe780ae5d6322'), 'transactionIndex': 0, 'blockHash': HexBytes('0xe4f3c40556ff0b098973c3894198945f9c04909fd54aadbd9cab33648d7338d2'), 'blockNumber': 122, 'gasUsed': 477747, 'cumulativeGasUsed': 477747, 'contractAddress': None, 'logs': [AttributeDict({'logIndex': 0, 'transactionIndex': 0, 'transactionHash': HexBytes('0xbff95a585f9ddffb48a6f35f7a373819f46901eb0bc43ea3578fe780ae5d6322'), 'blockHash': HexBytes('0xe4f3c40556ff0b098973c3894198945f9c04909fd54aadbd9cab33648d7338d2'), 'blockNumber': 122, 'address': '0xD2FeAa80D1977E63f5333073453073011Cc0A616', 'data': '0x0000000000000000000000007836f788ef0102308b61e6ce3ebe9f685622cb3c0000000000000000000000000859c62012ca5d053393d6224662297e782c0eb4', 'topics': [HexBytes('0x998531445404b0df49aad4b4e2cef56293d4e7e97290d2504c4276b065d05c0a')], 'type': 'mined'})], 'status': 1, 'logsBloom': HexBytes('0x00000000000000000000000000000000000000000000000000000000000000080000000000000000000000000000000000000000000000000000000000000000000000000000000000000000000000000000000000000000000000000000000000000000000000000000000000000008000000000010000000000000000000001000000000000000000000000000000400000000000000000000000000000000000000000000000000000000000000000002000000000000000000000000000000000000000000000000000000000000000000000000000000000000000000000000000000000000000000000000000000000000000000000000000000000000')})\n",
      "None\n"
     ]
    }
   ],
   "source": [
    "CLIENT_ADDRESS = '0x7836F788Ef0102308b61e6cE3EBe9F685622cb3C'\n",
    "\n",
    "print(clientA.launch_query(CLIENT_ADDRESS))"
   ]
  },
  {
   "cell_type": "code",
   "execution_count": 4,
   "metadata": {},
   "outputs": [
    {
     "ename": "InvalidAddress",
     "evalue": "('Address has an invalid EIP checksum', '0859c62012ca5d053393d6224662297e782c0eb4')",
     "output_type": "error",
     "traceback": [
      "\u001b[0;31m---------------------------------------------------------------------------\u001b[0m",
      "\u001b[0;31mInvalidAddress\u001b[0m                            Traceback (most recent call last)",
      "\u001b[0;32m<ipython-input-4-099426b6d04d>\u001b[0m in \u001b[0;36m<module>\u001b[0;34m()\u001b[0m\n\u001b[0;32m----> 1\u001b[0;31m \u001b[0mprint\u001b[0m\u001b[0;34m(\u001b[0m\u001b[0mclientA\u001b[0m\u001b[0;34m.\u001b[0m\u001b[0mping_client\u001b[0m\u001b[0;34m(\u001b[0m\u001b[0;34m)\u001b[0m\u001b[0;34m)\u001b[0m\u001b[0;34m\u001b[0m\u001b[0m\n\u001b[0m",
      "\u001b[0;32m~/Desktop/ychackathon/client.py\u001b[0m in \u001b[0;36mping_client\u001b[0;34m(self)\u001b[0m\n\u001b[1;32m     81\u001b[0m         contract_obj = self.web3.eth.contract(\n\u001b[1;32m     82\u001b[0m            \u001b[0maddress\u001b[0m\u001b[0;34m=\u001b[0m\u001b[0mself\u001b[0m\u001b[0;34m.\u001b[0m\u001b[0mQuery_address\u001b[0m\u001b[0;34m,\u001b[0m\u001b[0;34m\u001b[0m\u001b[0m\n\u001b[0;32m---> 83\u001b[0;31m            abi=self.Query_interface['abi'])\n\u001b[0m\u001b[1;32m     84\u001b[0m         \u001b[0mtx_hash\u001b[0m \u001b[0;34m=\u001b[0m \u001b[0mcontract_obj\u001b[0m\u001b[0;34m.\u001b[0m\u001b[0mfunctions\u001b[0m\u001b[0;34m.\u001b[0m\u001b[0mpingClients\u001b[0m\u001b[0;34m(\u001b[0m\u001b[0;34m)\u001b[0m\u001b[0;34m.\u001b[0m\u001b[0mtransact\u001b[0m\u001b[0;34m(\u001b[0m\u001b[0;34m{\u001b[0m\u001b[0;34m'from'\u001b[0m\u001b[0;34m:\u001b[0m \u001b[0mself\u001b[0m\u001b[0;34m.\u001b[0m\u001b[0mclientAddress\u001b[0m\u001b[0;34m}\u001b[0m\u001b[0;34m)\u001b[0m\u001b[0;34m\u001b[0m\u001b[0m\n\u001b[1;32m     85\u001b[0m         \u001b[0mtx_receipt\u001b[0m \u001b[0;34m=\u001b[0m \u001b[0mweb3\u001b[0m\u001b[0;34m.\u001b[0m\u001b[0meth\u001b[0m\u001b[0;34m.\u001b[0m\u001b[0mgetTransactionReceipt\u001b[0m\u001b[0;34m(\u001b[0m\u001b[0mtx_hash\u001b[0m\u001b[0;34m)\u001b[0m\u001b[0;34m\u001b[0m\u001b[0m\n",
      "\u001b[0;32m/usr/local/lib/python3.6/site-packages/web3/eth.py\u001b[0m in \u001b[0;36mcontract\u001b[0;34m(self, address, **kwargs)\u001b[0m\n\u001b[1;32m    352\u001b[0m \u001b[0;34m\u001b[0m\u001b[0m\n\u001b[1;32m    353\u001b[0m         \u001b[0;32mif\u001b[0m \u001b[0maddress\u001b[0m\u001b[0;34m:\u001b[0m\u001b[0;34m\u001b[0m\u001b[0m\n\u001b[0;32m--> 354\u001b[0;31m             \u001b[0;32mreturn\u001b[0m \u001b[0mContractFactory\u001b[0m\u001b[0;34m(\u001b[0m\u001b[0maddress\u001b[0m\u001b[0;34m)\u001b[0m\u001b[0;34m\u001b[0m\u001b[0m\n\u001b[0m\u001b[1;32m    355\u001b[0m         \u001b[0;32melse\u001b[0m\u001b[0;34m:\u001b[0m\u001b[0;34m\u001b[0m\u001b[0m\n\u001b[1;32m    356\u001b[0m             \u001b[0;32mreturn\u001b[0m \u001b[0mContractFactory\u001b[0m\u001b[0;34m\u001b[0m\u001b[0m\n",
      "\u001b[0;32m/usr/local/lib/python3.6/site-packages/web3/contract.py\u001b[0m in \u001b[0;36m__init__\u001b[0;34m(self, address)\u001b[0m\n\u001b[1;32m    198\u001b[0m \u001b[0;34m\u001b[0m\u001b[0m\n\u001b[1;32m    199\u001b[0m         \u001b[0;32mif\u001b[0m \u001b[0maddress\u001b[0m\u001b[0;34m:\u001b[0m\u001b[0;34m\u001b[0m\u001b[0m\n\u001b[0;32m--> 200\u001b[0;31m             \u001b[0mself\u001b[0m\u001b[0;34m.\u001b[0m\u001b[0maddress\u001b[0m \u001b[0;34m=\u001b[0m \u001b[0mnormalize_address\u001b[0m\u001b[0;34m(\u001b[0m\u001b[0mself\u001b[0m\u001b[0;34m.\u001b[0m\u001b[0mweb3\u001b[0m\u001b[0;34m.\u001b[0m\u001b[0mens\u001b[0m\u001b[0;34m,\u001b[0m \u001b[0maddress\u001b[0m\u001b[0;34m)\u001b[0m\u001b[0;34m\u001b[0m\u001b[0m\n\u001b[0m\u001b[1;32m    201\u001b[0m \u001b[0;34m\u001b[0m\u001b[0m\n\u001b[1;32m    202\u001b[0m         \u001b[0;32mif\u001b[0m \u001b[0;32mnot\u001b[0m \u001b[0mself\u001b[0m\u001b[0;34m.\u001b[0m\u001b[0maddress\u001b[0m\u001b[0;34m:\u001b[0m\u001b[0;34m\u001b[0m\u001b[0m\n",
      "\u001b[0;32m/usr/local/lib/python3.6/site-packages/web3/utils/normalizers.py\u001b[0m in \u001b[0;36mnormalize_address\u001b[0;34m(ens, address)\u001b[0m\n\u001b[1;32m    158\u001b[0m             \u001b[0mvalidate_name_has_address\u001b[0m\u001b[0;34m(\u001b[0m\u001b[0mens\u001b[0m\u001b[0;34m,\u001b[0m \u001b[0maddress\u001b[0m\u001b[0;34m)\u001b[0m\u001b[0;34m\u001b[0m\u001b[0m\n\u001b[1;32m    159\u001b[0m         \u001b[0;32melse\u001b[0m\u001b[0;34m:\u001b[0m\u001b[0;34m\u001b[0m\u001b[0m\n\u001b[0;32m--> 160\u001b[0;31m             \u001b[0mvalidate_address\u001b[0m\u001b[0;34m(\u001b[0m\u001b[0maddress\u001b[0m\u001b[0;34m)\u001b[0m\u001b[0;34m\u001b[0m\u001b[0m\n\u001b[0m\u001b[1;32m    161\u001b[0m     \u001b[0;32mreturn\u001b[0m \u001b[0maddress\u001b[0m\u001b[0;34m\u001b[0m\u001b[0m\n\u001b[1;32m    162\u001b[0m \u001b[0;34m\u001b[0m\u001b[0m\n",
      "\u001b[0;32m/usr/local/lib/python3.6/site-packages/web3/utils/validation.py\u001b[0m in \u001b[0;36mvalidate_address\u001b[0;34m(value)\u001b[0m\n\u001b[1;32m    114\u001b[0m         \u001b[0;32mraise\u001b[0m \u001b[0mInvalidAddress\u001b[0m\u001b[0;34m(\u001b[0m\u001b[0;34m\"Address must be 20 bytes, as a hex string with a 0x prefix\"\u001b[0m\u001b[0;34m,\u001b[0m \u001b[0mvalue\u001b[0m\u001b[0;34m)\u001b[0m\u001b[0;34m\u001b[0m\u001b[0m\n\u001b[1;32m    115\u001b[0m     \u001b[0;32mif\u001b[0m \u001b[0;32mnot\u001b[0m \u001b[0mis_checksum_address\u001b[0m\u001b[0;34m(\u001b[0m\u001b[0mvalue\u001b[0m\u001b[0;34m)\u001b[0m\u001b[0;34m:\u001b[0m\u001b[0;34m\u001b[0m\u001b[0m\n\u001b[0;32m--> 116\u001b[0;31m         \u001b[0;32mraise\u001b[0m \u001b[0mInvalidAddress\u001b[0m\u001b[0;34m(\u001b[0m\u001b[0;34m\"Address has an invalid EIP checksum\"\u001b[0m\u001b[0;34m,\u001b[0m \u001b[0mvalue\u001b[0m\u001b[0;34m)\u001b[0m\u001b[0;34m\u001b[0m\u001b[0m\n\u001b[0m\u001b[1;32m    117\u001b[0m \u001b[0;34m\u001b[0m\u001b[0m\n\u001b[1;32m    118\u001b[0m \u001b[0;34m\u001b[0m\u001b[0m\n",
      "\u001b[0;31mInvalidAddress\u001b[0m: ('Address has an invalid EIP checksum', '0859c62012ca5d053393d6224662297e782c0eb4')"
     ]
    }
   ],
   "source": [
    "print(clientA.ping_client())"
   ]
  },
  {
   "cell_type": "code",
   "execution_count": null,
   "metadata": {},
   "outputs": [],
   "source": []
  }
 ],
 "metadata": {
  "kernelspec": {
   "display_name": "Python 3",
   "language": "python",
   "name": "python3"
  },
  "language_info": {
   "codemirror_mode": {
    "name": "ipython",
    "version": 3
   },
   "file_extension": ".py",
   "mimetype": "text/x-python",
   "name": "python",
   "nbconvert_exporter": "python",
   "pygments_lexer": "ipython3",
   "version": "3.6.4"
  }
 },
 "nbformat": 4,
 "nbformat_minor": 2
}
