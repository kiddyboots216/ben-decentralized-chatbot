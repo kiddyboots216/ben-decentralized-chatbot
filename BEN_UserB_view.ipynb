{
 "cells": [
  {
   "cell_type": "code",
   "execution_count": 4,
   "metadata": {},
   "outputs": [
    {
     "name": "stderr",
     "output_type": "stream",
     "text": [
      "[Server] 2018-04-14 16:37:05,959 DEBUG Starting new HTTP connection (1): 127.0.0.1\n",
      "[Server] 2018-04-14 16:37:05,961 DEBUG http://127.0.0.1:5001 \"GET /api/v0/version?stream-channels=true HTTP/1.1\" 200 None\n",
      "[Server] 2018-04-14 16:37:06,114 DEBUG Starting new HTTP connection (1): localhost\n",
      "[Server] 2018-04-14 16:37:06,122 DEBUG http://localhost:8545 \"POST / HTTP/1.1\" 200 None\n",
      "[Server] 2018-04-14 16:37:06,132 DEBUG http://localhost:8545 \"POST / HTTP/1.1\" 200 None\n",
      "[Server] 2018-04-14 16:37:06,139 DEBUG http://localhost:8545 \"POST / HTTP/1.1\" 200 None\n",
      "[Server] 2018-04-14 16:37:06,162 DEBUG http://localhost:8545 \"POST / HTTP/1.1\" 200 None\n",
      "[Server] 2018-04-14 16:37:06,168 DEBUG http://localhost:8545 \"POST / HTTP/1.1\" 200 None\n",
      "[Server] 2018-04-14 16:37:06,174 DEBUG http://localhost:8545 \"POST / HTTP/1.1\" 200 None\n",
      "[Server] 2018-04-14 16:37:06,208 DEBUG http://localhost:8545 \"POST / HTTP/1.1\" 200 None\n",
      "[Server] 2018-04-14 16:37:06,217 DEBUG http://localhost:8545 \"POST / HTTP/1.1\" 200 None\n",
      "[Server] 2018-04-14 16:37:06,329 DEBUG http://localhost:8545 \"POST / HTTP/1.1\" 200 None\n"
     ]
    },
    {
     "name": "stdout",
     "output_type": "stream",
     "text": [
      "Client Address: 0x153393aBFD55f4B6351201100341B7EC5B5fa573\n",
      "9999999\n"
     ]
    },
    {
     "name": "stderr",
     "output_type": "stream",
     "text": [
      "[Server] 2018-04-14 16:37:06,347 DEBUG http://localhost:8545 \"POST / HTTP/1.1\" 200 None\n",
      "[Server] 2018-04-14 16:37:06,363 DEBUG http://localhost:8545 \"POST / HTTP/1.1\" 200 None\n",
      "[Server] 2018-04-14 16:37:06,452 DEBUG http://localhost:8545 \"POST / HTTP/1.1\" 200 None\n",
      "[Server] 2018-04-14 16:37:06,469 DEBUG http://localhost:8545 \"POST / HTTP/1.1\" 200 None\n"
     ]
    },
    {
     "name": "stdout",
     "output_type": "stream",
     "text": [
      "Delegator Address 0x152fA79b555df85D9C30f31f39b4968812A38ab3\n"
     ]
    }
   ],
   "source": [
    "from web3 import Web3, HTTPProvider\n",
    "from client import Client\n",
    "import experiment\n",
    "\n",
    "k = 1\n",
    "m = 'perceptron'\n",
    "d = 'iid'\n",
    "\n",
    "web3 = Web3(HTTPProvider('http://localhost:8545'))\n",
    "\n",
    "clientA = Client(0, web3)\n",
    "\n",
    "clientA.get_money()\n",
    "delegator_address = clientA.Delegator_address\n",
    "print(\"Delegator Address\", delegator_address)"
   ]
  },
  {
   "cell_type": "code",
   "execution_count": 6,
   "metadata": {},
   "outputs": [
    {
     "name": "stderr",
     "output_type": "stream",
     "text": [
      "[Server] 2018-04-14 16:38:08,771 DEBUG Resetting dropped connection: localhost\n",
      "[Server] 2018-04-14 16:38:08,861 DEBUG http://localhost:8545 \"POST / HTTP/1.1\" 200 None\n",
      "[Server] 2018-04-14 16:38:08,869 DEBUG http://localhost:8545 \"POST / HTTP/1.1\" 200 None\n",
      "[Server] 2018-04-14 16:38:08,878 DEBUG http://localhost:8545 \"POST / HTTP/1.1\" 200 None\n",
      "[Server] 2018-04-14 16:38:08,975 DEBUG http://localhost:8545 \"POST / HTTP/1.1\" 200 None\n",
      "[Server] 2018-04-14 16:38:09,005 DEBUG http://localhost:8545 \"POST / HTTP/1.1\" 200 None\n"
     ]
    },
    {
     "name": "stdout",
     "output_type": "stream",
     "text": [
      "AttributeDict({'transactionHash': HexBytes('0x9c96604771bff355663a3f61c0e6e5915291cf5106b32099085399bf4db5d44b'), 'transactionIndex': 0, 'blockHash': HexBytes('0xf38ff8334ba50c856d2a6d789bf32c0ee1c2d76ec1229517afb7b6bcd534eb4f'), 'blockNumber': 275, 'gasUsed': 682427, 'cumulativeGasUsed': 682427, 'contractAddress': None, 'logs': [AttributeDict({'logIndex': 0, 'transactionIndex': 0, 'transactionHash': HexBytes('0x9c96604771bff355663a3f61c0e6e5915291cf5106b32099085399bf4db5d44b'), 'blockHash': HexBytes('0xf38ff8334ba50c856d2a6d789bf32c0ee1c2d76ec1229517afb7b6bcd534eb4f'), 'blockNumber': 275, 'address': '0x152fA79b555df85D9C30f31f39b4968812A38ab3', 'data': '0x000000000000000000000000b4090ac776826c4f4ef947be66cb802bf40b4d81000000000000000000000000a22487163f01546884892e42af896d0cf8a3f7cd', 'topics': [HexBytes('0x998531445404b0df49aad4b4e2cef56293d4e7e97290d2504c4276b065d05c0a')], 'type': 'mined'}), AttributeDict({'logIndex': 1, 'transactionIndex': 0, 'transactionHash': HexBytes('0x9c96604771bff355663a3f61c0e6e5915291cf5106b32099085399bf4db5d44b'), 'blockHash': HexBytes('0xf38ff8334ba50c856d2a6d789bf32c0ee1c2d76ec1229517afb7b6bcd534eb4f'), 'blockNumber': 275, 'address': '0x152fA79b555df85D9C30f31f39b4968812A38ab3', 'data': '0x000000000000000000000000b4090ac776826c4f4ef947be66cb802bf40b4d81000000000000000000000000a22487163f01546884892e42af896d0cf8a3f7cd', 'topics': [HexBytes('0x998531445404b0df49aad4b4e2cef56293d4e7e97290d2504c4276b065d05c0a')], 'type': 'mined'})], 'status': 1, 'logsBloom': HexBytes('0x00000000000000000000000000000000000000000000000000000000000000080000000000000000000000000000000000000000000000000000000000000000000000000000000000000000000000002000000000000000000000000400000000000000000000000000000000000000000000000010000001000000000000000000000000000000000000000000000400000000000000000000000000000000000000000000000000000000000000000000000000000000000000000000000000000000000000000000000000000000000000000000000000000000000000000000000000000000000000000000000000000000000000000000000000000000')})\n",
      "None\n"
     ]
    }
   ],
   "source": [
    "CLIENT_ADDRESS = '0xb4090AC776826c4F4EF947be66cB802bF40B4D81'\n",
    "\n",
    "print(clientA.launch_query(CLIENT_ADDRESS))"
   ]
  },
  {
   "cell_type": "code",
   "execution_count": 7,
   "metadata": {},
   "outputs": [
    {
     "name": "stderr",
     "output_type": "stream",
     "text": [
      "[Server] 2018-04-14 16:38:14,537 DEBUG Resetting dropped connection: localhost\n",
      "[Server] 2018-04-14 16:38:14,579 DEBUG http://localhost:8545 \"POST / HTTP/1.1\" 200 None\n",
      "[Server] 2018-04-14 16:38:14,586 DEBUG http://localhost:8545 \"POST / HTTP/1.1\" 200 None\n",
      "[Server] 2018-04-14 16:38:14,591 DEBUG http://localhost:8545 \"POST / HTTP/1.1\" 200 None\n",
      "[Server] 2018-04-14 16:38:14,627 DEBUG http://localhost:8545 \"POST / HTTP/1.1\" 200 None\n",
      "[Server] 2018-04-14 16:38:14,653 DEBUG http://localhost:8545 \"POST / HTTP/1.1\" 200 None\n"
     ]
    },
    {
     "name": "stdout",
     "output_type": "stream",
     "text": [
      "AttributeDict({'transactionHash': HexBytes('0x7bc02a3144f81cef8308cc72fe26df667e921feb0414afba63b6b6947ed77635'), 'transactionIndex': 0, 'blockHash': HexBytes('0x498de7433978a8fb850aa5a0018b3f6efd2907c743d8ab20ad440b342da9aabd'), 'blockNumber': 276, 'gasUsed': 29424, 'cumulativeGasUsed': 29424, 'contractAddress': None, 'logs': [AttributeDict({'logIndex': 0, 'transactionIndex': 0, 'transactionHash': HexBytes('0x7bc02a3144f81cef8308cc72fe26df667e921feb0414afba63b6b6947ed77635'), 'blockHash': HexBytes('0x498de7433978a8fb850aa5a0018b3f6efd2907c743d8ab20ad440b342da9aabd'), 'blockNumber': 276, 'address': '0xA22487163f01546884892e42af896D0cF8a3f7Cd', 'data': '0x000000000000000000000000b4090ac776826c4f4ef947be66cb802bf40b4d810000000000000000000000000000000000000000000000000000000000000040000000000000000000000000000000000000000000000000000000000000002e516d566d347942326a785077585856584d366e383654757741346a43513745664e506a67754672686f436250694a000000000000000000000000000000000000', 'topics': [HexBytes('0xedc9922223a88c2dbd92d3463fbe4141e7f3b1e7b8b4253b3e69d9d5ebfb28e2')], 'type': 'mined'}), AttributeDict({'logIndex': 1, 'transactionIndex': 0, 'transactionHash': HexBytes('0x7bc02a3144f81cef8308cc72fe26df667e921feb0414afba63b6b6947ed77635'), 'blockHash': HexBytes('0x498de7433978a8fb850aa5a0018b3f6efd2907c743d8ab20ad440b342da9aabd'), 'blockNumber': 276, 'address': '0xA22487163f01546884892e42af896D0cF8a3f7Cd', 'data': '0x000000000000000000000000b4090ac776826c4f4ef947be66cb802bf40b4d810000000000000000000000000000000000000000000000000000000000000040000000000000000000000000000000000000000000000000000000000000002e516d566d347942326a785077585856584d366e383654757741346a43513745664e506a67754672686f436250694a000000000000000000000000000000000000', 'topics': [HexBytes('0xedc9922223a88c2dbd92d3463fbe4141e7f3b1e7b8b4253b3e69d9d5ebfb28e2')], 'type': 'mined'})], 'status': 1, 'logsBloom': HexBytes('0x00000000000000000000000000000000000000000000000000000000000000000000000000000000000000000000000000000000000000000000000000000000000000000000000000000000000000000000000000000040000004000000000000000000000000000000004000000000000000000000000000000000000000000000000000000000000000000000000000000000000000000000010000000000000000000000000000000000000000000000000000000000000000000000000000000000000000000000000000000000000000000000000000002000000000000000000000000000000000000000000000000000008000000000000000000000')})\n"
     ]
    }
   ],
   "source": [
    "print(clientA.ping_client())"
   ]
  },
  {
   "cell_type": "code",
   "execution_count": null,
   "metadata": {},
   "outputs": [],
   "source": []
  }
 ],
 "metadata": {
  "kernelspec": {
   "display_name": "Python 3",
   "language": "python",
   "name": "python3"
  },
  "language_info": {
   "codemirror_mode": {
    "name": "ipython",
    "version": 3
   },
   "file_extension": ".py",
   "mimetype": "text/x-python",
   "name": "python",
   "nbconvert_exporter": "python",
   "pygments_lexer": "ipython3",
   "version": "3.6.4"
  }
 },
 "nbformat": 4,
 "nbformat_minor": 2
}
