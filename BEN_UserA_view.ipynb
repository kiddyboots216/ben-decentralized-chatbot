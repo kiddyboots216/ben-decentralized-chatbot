{
 "cells": [
  {
   "cell_type": "code",
   "execution_count": 1,
   "metadata": {},
   "outputs": [
    {
     "name": "stderr",
     "output_type": "stream",
     "text": [
      "/usr/local/lib/python3.6/site-packages/h5py/__init__.py:36: FutureWarning: Conversion of the second argument of issubdtype from `float` to `np.floating` is deprecated. In future, it will be treated as `np.float64 == np.dtype(float).type`.\n",
      "  from ._conv import register_converters as _register_converters\n",
      "Using TensorFlow backend.\n"
     ]
    },
    {
     "name": "stdout",
     "output_type": "stream",
     "text": [
      "Client Address: 0x49E912B59A43f61Ef2674835a05AedAF1B619973\n",
      "9999999\n",
      "Delegator Address 0xEcd0775716427f4342e368139D1eD55873FD377c\n"
     ]
    }
   ],
   "source": [
    "from web3 import Web3, HTTPProvider\n",
    "from client import Client\n",
    "\n",
    "\n",
    "web3 = Web3(HTTPProvider('http://localhost:8545'))\n",
    "\n",
    "clientA = Client(0, web3)\n",
    "\n",
    "clientA.get_money()\n",
    "delegator_address = clientA.Delegator_address\n",
    "print(\"Delegator Address\", delegator_address)\n",
    "\n",
    "with open('delegator_addr', 'w') as d:\n",
    "    d.write(delegator_address)\n",
    "    d.close"
   ]
  },
  {
   "cell_type": "code",
   "execution_count": 2,
   "metadata": {},
   "outputs": [
    {
     "name": "stdout",
     "output_type": "stream",
     "text": [
      "AttributeDict({'transactionHash': HexBytes('0x2441dd2138ad7d714dd725d4795af9fce9d312f9b8b76b89cd1efcf204aa8108'), 'transactionIndex': 0, 'blockHash': HexBytes('0xc4dd3372090df893aecd3c8e2d60eacc511f890a587108dda9c1956c713de009'), 'blockNumber': 36, 'gasUsed': 689792, 'cumulativeGasUsed': 689792, 'contractAddress': None, 'logs': [AttributeDict({'logIndex': 0, 'transactionIndex': 0, 'transactionHash': HexBytes('0x2441dd2138ad7d714dd725d4795af9fce9d312f9b8b76b89cd1efcf204aa8108'), 'blockHash': HexBytes('0xc4dd3372090df893aecd3c8e2d60eacc511f890a587108dda9c1956c713de009'), 'blockNumber': 36, 'address': '0xEcd0775716427f4342e368139D1eD55873FD377c', 'data': '0x000000000000000000000000a54adc2301a1ff053f1d4885fb172be4abc57787000000000000000000000000d3e72fff5b30359e6ef4d558476e8972c8b90666', 'topics': [HexBytes('0x998531445404b0df49aad4b4e2cef56293d4e7e97290d2504c4276b065d05c0a')], 'type': 'mined'})], 'status': 1, 'logsBloom': HexBytes('0x00000000000000000000000000000000040000000000000000000000000000080000000000000000000800000000000000000000000000000000000000000000000000000000000000000000000000000000000000000000000000000000000000000000000000000000000000000000000000000010000000000000000000000000000000000000000000000000000400000000000000000200000000000000000000000000000000000000000000000000000000000000000000000000000000000000000000000000000000000000000000000000000000000000000000000000000000000000000000000000000000000000000000000000000000000000')})\n",
      "None\n"
     ]
    }
   ],
   "source": [
    "with open('client_addr', 'r') as c:\n",
    "    CLIENT_ADDRESS = c.read()\n",
    "    c.close\n",
    "\n",
    "print(clientA.launch_query(CLIENT_ADDRESS))"
   ]
  },
  {
   "cell_type": "code",
   "execution_count": 4,
   "metadata": {},
   "outputs": [
    {
     "name": "stdout",
     "output_type": "stream",
     "text": [
      "AttributeDict({'transactionHash': HexBytes('0xd0c359b5a9eea295d9abf9b1bab6849814d0e0e68045f1a3c6113540c12f4c4f'), 'transactionIndex': 0, 'blockHash': HexBytes('0x53f2b984908c1d240314fded84bb18496ec9a808d6fd7dc5939a3ced22c7f7da'), 'blockNumber': 38, 'gasUsed': 25572, 'cumulativeGasUsed': 25572, 'contractAddress': None, 'logs': [AttributeDict({'logIndex': 0, 'transactionIndex': 0, 'transactionHash': HexBytes('0xd0c359b5a9eea295d9abf9b1bab6849814d0e0e68045f1a3c6113540c12f4c4f'), 'blockHash': HexBytes('0x53f2b984908c1d240314fded84bb18496ec9a808d6fd7dc5939a3ced22c7f7da'), 'blockNumber': 38, 'address': '0xd3e72ffF5B30359E6ef4D558476E8972c8b90666', 'data': '0x000000000000000000000000a54adc2301a1ff053f1d4885fb172be4abc577870000000000000000000000000000000000000000000000000000000000000040000000000000000000000000000000000000000000000000000000000000002e516d566d347942326a785077585856584d366e383654757741346a43513745664e506a67754672686f436250694a000000000000000000000000000000000000', 'topics': [HexBytes('0xedc9922223a88c2dbd92d3463fbe4141e7f3b1e7b8b4253b3e69d9d5ebfb28e2')], 'type': 'mined'})], 'status': 1, 'logsBloom': HexBytes('0x00000000000000000000000000000000000000000000000000000000000000000000000000000000000000000000000000000000000000000000000040000000000000000000000000000000000000000000000000000040000000000000000000001000000000000000000000000000000000000000000000000000000000000000000000000000000000000000000008000000000000000000010000000000000000000000000000000000000000000000000000000000000000000000000000000000000000000000000000000000000000000000000000002000000000000000000000000000000000000000000000000000000000000000000000000000')})\n"
     ]
    }
   ],
   "source": [
    "print(clientA.ping_client())"
   ]
  },
  {
   "cell_type": "code",
   "execution_count": null,
   "metadata": {},
   "outputs": [],
   "source": []
  }
 ],
 "metadata": {
  "kernelspec": {
   "display_name": "Python 3",
   "language": "python",
   "name": "python3"
  },
  "language_info": {
   "codemirror_mode": {
    "name": "ipython",
    "version": 3
   },
   "file_extension": ".py",
   "mimetype": "text/x-python",
   "name": "python",
   "nbconvert_exporter": "python",
   "pygments_lexer": "ipython3",
   "version": "3.6.4"
  }
 },
 "nbformat": 4,
 "nbformat_minor": 2
}
