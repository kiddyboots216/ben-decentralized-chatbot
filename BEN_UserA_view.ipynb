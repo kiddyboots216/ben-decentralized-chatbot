{
 "cells": [
  {
   "cell_type": "code",
   "execution_count": 1,
   "metadata": {},
   "outputs": [
    {
     "name": "stderr",
     "output_type": "stream",
     "text": [
      "/usr/local/lib/python3.6/site-packages/h5py/__init__.py:36: FutureWarning: Conversion of the second argument of issubdtype from `float` to `np.floating` is deprecated. In future, it will be treated as `np.float64 == np.dtype(float).type`.\n",
      "  from ._conv import register_converters as _register_converters\n",
      "Using TensorFlow backend.\n"
     ]
    },
    {
     "name": "stdout",
     "output_type": "stream",
     "text": [
      "Client Address: 0xe37CF8db02bA0c9029F0fDc52308d6d3Bb2B4646\n",
      "9999999\n",
      "Delegator Address 0x00a68Ee30bCea46507F64eF3a10A354B31D6A5A0\n"
     ]
    }
   ],
   "source": [
    "from web3 import Web3, HTTPProvider\n",
    "from client import Client\n",
    "\n",
    "\n",
    "web3 = Web3(HTTPProvider('http://localhost:8545'))\n",
    "\n",
    "clientA = Client(0, web3)\n",
    "\n",
    "clientA.get_money()\n",
    "delegator_address = clientA.Delegator_address\n",
    "print(\"Delegator Address\", delegator_address)"
   ]
  },
  {
   "cell_type": "code",
   "execution_count": 2,
   "metadata": {},
   "outputs": [
    {
     "name": "stdout",
     "output_type": "stream",
     "text": [
      "AttributeDict({'transactionHash': HexBytes('0x7a5cd5aa0771ae08173fec12c81ef2f4bf0907e797d7623a168b3d92b5f0145e'), 'transactionIndex': 0, 'blockHash': HexBytes('0xf1d7d26a99e727927ee93006064c94ec1b310995b192a81773277fc08d00cac0'), 'blockNumber': 364, 'gasUsed': 689792, 'cumulativeGasUsed': 689792, 'contractAddress': None, 'logs': [AttributeDict({'logIndex': 0, 'transactionIndex': 0, 'transactionHash': HexBytes('0x7a5cd5aa0771ae08173fec12c81ef2f4bf0907e797d7623a168b3d92b5f0145e'), 'blockHash': HexBytes('0xf1d7d26a99e727927ee93006064c94ec1b310995b192a81773277fc08d00cac0'), 'blockNumber': 364, 'address': '0x00a68Ee30bCea46507F64eF3a10A354B31D6A5A0', 'data': '0x000000000000000000000000a88bb69f5efb59c255b76d37c09e8b47c5ee03fa0000000000000000000000006162a699d8c899a0f706940d3aa7e80f702d7655', 'topics': [HexBytes('0x998531445404b0df49aad4b4e2cef56293d4e7e97290d2504c4276b065d05c0a')], 'type': 'mined'})], 'status': 1, 'logsBloom': HexBytes('0x00000000000000000000000000000000000000000000100000000000000000080000000000000000000000000000000000000000000000000000008000000000000000000000000000000000000000000000000000000000000000000000000000000000000000000000000000000000000000000010000000000000000000000000000000000000000000000000000400000040000000000000000000000000000000000000000000000000000000000000000000000000000000000000000000000000000000000000000000000000000000000000000000000000000000000000000000000000000000000000000000000000000000000000000000000000')})\n",
      "None\n"
     ]
    }
   ],
   "source": [
    "CLIENT_ADDRESS = '0xA88Bb69f5efB59C255b76D37C09e8b47c5EE03FA'\n",
    "\n",
    "print(clientA.launch_query(CLIENT_ADDRESS))"
   ]
  },
  {
   "cell_type": "code",
   "execution_count": 3,
   "metadata": {},
   "outputs": [
    {
     "name": "stdout",
     "output_type": "stream",
     "text": [
      "AttributeDict({'transactionHash': HexBytes('0x47e85d69a07dd410ca7ce64e041ee2c7fa2dd35ffc10bc9d81c54ca2b498e9c0'), 'transactionIndex': 0, 'blockHash': HexBytes('0xbdaf5e01464f312998e5ce447754a133b6af8181b55d2936aebbf0161bf21b04'), 'blockNumber': 365, 'gasUsed': 25572, 'cumulativeGasUsed': 25572, 'contractAddress': None, 'logs': [AttributeDict({'logIndex': 0, 'transactionIndex': 0, 'transactionHash': HexBytes('0x47e85d69a07dd410ca7ce64e041ee2c7fa2dd35ffc10bc9d81c54ca2b498e9c0'), 'blockHash': HexBytes('0xbdaf5e01464f312998e5ce447754a133b6af8181b55d2936aebbf0161bf21b04'), 'blockNumber': 365, 'address': '0x6162A699D8C899a0f706940D3aA7e80f702D7655', 'data': '0x000000000000000000000000a88bb69f5efb59c255b76d37c09e8b47c5ee03fa0000000000000000000000000000000000000000000000000000000000000040000000000000000000000000000000000000000000000000000000000000002e516d566d347942326a785077585856584d366e383654757741346a43513745664e506a67754672686f436250694a000000000000000000000000000000000000', 'topics': [HexBytes('0xedc9922223a88c2dbd92d3463fbe4141e7f3b1e7b8b4253b3e69d9d5ebfb28e2')], 'type': 'mined'})], 'status': 1, 'logsBloom': HexBytes('0x00000000000000000000000000000000040000000000000000000000000000000000000000000000000000000000000000000000000000000000000000000000000000000000000000000000000000000000000000000040000000000000000000000000000000000000000000000000000000000000000000000000000000000000000000000000000000000000000000000000000000000000010000000000000000000000000000000100000000000000000000000000000000000000000000000000000000000000000000000000000000000000000000002000000000000000000000008000000000000000000000000000000000000000000000000000')})\n"
     ]
    }
   ],
   "source": [
    "print(clientA.ping_client())"
   ]
  },
  {
   "cell_type": "code",
   "execution_count": null,
   "metadata": {},
   "outputs": [],
   "source": []
  }
 ],
 "metadata": {
  "kernelspec": {
   "display_name": "Python 3",
   "language": "python",
   "name": "python3"
  },
  "language_info": {
   "codemirror_mode": {
    "name": "ipython",
    "version": 3
   },
   "file_extension": ".py",
   "mimetype": "text/x-python",
   "name": "python",
   "nbconvert_exporter": "python",
   "pygments_lexer": "ipython3",
   "version": "3.6.4"
  }
 },
 "nbformat": 4,
 "nbformat_minor": 2
}
