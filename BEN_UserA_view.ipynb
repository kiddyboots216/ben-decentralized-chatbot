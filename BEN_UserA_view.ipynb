{
 "cells": [
  {
   "cell_type": "code",
   "execution_count": 2,
   "metadata": {},
   "outputs": [
    {
     "name": "stdout",
     "output_type": "stream",
     "text": [
      "Extracting MNIST-data/train-images-idx3-ubyte.gz\n",
      "Extracting MNIST-data/train-labels-idx1-ubyte.gz\n",
      "Extracting MNIST-data/t10k-images-idx3-ubyte.gz\n",
      "Extracting MNIST-data/t10k-labels-idx1-ubyte.gz\n"
     ]
    }
   ],
   "source": [
    "from web3 import Web3, HTTPProvider\n",
    "from client import Client\n",
    "import experiment\n",
    "\n",
    "k = 1\n",
    "m = 'perceptron'\n",
    "d = 'iid'\n",
    "\n",
    "web3 = Web3(HTTPProvider('http://localhost:8545'))\n",
    "\n",
    "X_train_list, y_train_list, X_test, y_test = experiment.get_datasets(k, m, d)"
   ]
  },
  {
   "cell_type": "code",
   "execution_count": 18,
   "metadata": {},
   "outputs": [
    {
     "name": "stderr",
     "output_type": "stream",
     "text": [
      "[Server] 2018-04-14 14:24:10,219 DEBUG Resetting dropped connection: localhost\n",
      "[Server] 2018-04-14 14:24:10,227 DEBUG http://localhost:8545 \"POST / HTTP/1.1\" 200 None\n",
      "[Server] 2018-04-14 14:24:10,233 DEBUG http://localhost:8545 \"POST / HTTP/1.1\" 200 None\n",
      "[Server] 2018-04-14 14:24:10,239 DEBUG http://localhost:8545 \"POST / HTTP/1.1\" 200 None\n",
      "[Server] 2018-04-14 14:24:10,256 DEBUG http://localhost:8545 \"POST / HTTP/1.1\" 200 None\n",
      "[Server] 2018-04-14 14:24:10,271 DEBUG http://localhost:8545 \"POST / HTTP/1.1\" 200 None\n",
      "[Server] 2018-04-14 14:24:10,290 DEBUG http://localhost:8545 \"POST / HTTP/1.1\" 200 None\n",
      "[Server] 2018-04-14 14:24:10,339 DEBUG http://localhost:8545 \"POST / HTTP/1.1\" 200 None\n",
      "[Server] 2018-04-14 14:24:10,351 DEBUG http://localhost:8545 \"POST / HTTP/1.1\" 200 None\n"
     ]
    },
    {
     "name": "stdout",
     "output_type": "stream",
     "text": [
      "Client Address: 0x7B3252ad1e2B4d132e288FB50c94EEb2596eB873\n",
      "9999999\n"
     ]
    }
   ],
   "source": [
    "DELEGATOR_ADDRESS = '0xA21805aFdd63156479209C475AC4287C658bBCe3'\n",
    "\n",
    "clientB = Client(1, X_train_list, y_train_list, web3, delegatorAddress=DELEGATOR_ADDRESS)\n",
    "clientB.get_money()"
   ]
  },
  {
   "cell_type": "code",
   "execution_count": 17,
   "metadata": {},
   "outputs": [
    {
     "name": "stderr",
     "output_type": "stream",
     "text": [
      "[Server] 2018-04-14 14:22:35,613 DEBUG http://localhost:8545 \"POST / HTTP/1.1\" 200 None\n",
      "[Server] 2018-04-14 14:22:35,614 DEBUG Using selector: KqueueSelector\n",
      "[Server] 2018-04-14 14:22:35,622 DEBUG http://localhost:8545 \"POST / HTTP/1.1\" 200 None\n",
      "[Server] 2018-04-14 14:22:37,632 DEBUG http://localhost:8545 \"POST / HTTP/1.1\" 200 None\n",
      "[Server] 2018-04-14 14:22:39,643 DEBUG http://localhost:8545 \"POST / HTTP/1.1\" 200 None\n",
      "[Server] 2018-04-14 14:22:41,656 DEBUG http://localhost:8545 \"POST / HTTP/1.1\" 200 None\n",
      "[Server] 2018-04-14 14:22:43,668 DEBUG http://localhost:8545 \"POST / HTTP/1.1\" 200 None\n",
      "[Server] 2018-04-14 14:22:45,680 DEBUG http://localhost:8545 \"POST / HTTP/1.1\" 200 None\n",
      "[Server] 2018-04-14 14:22:45,689 DEBUG http://localhost:8545 \"POST / HTTP/1.1\" 200 None\n",
      "[Server] 2018-04-14 14:22:45,690 DEBUG Using selector: KqueueSelector\n",
      "[Server] 2018-04-14 14:22:45,699 DEBUG http://localhost:8545 \"POST / HTTP/1.1\" 200 None\n"
     ]
    },
    {
     "name": "stdout",
     "output_type": "stream",
     "text": [
      "{'logIndex': 0, 'transactionIndex': 0, 'transactionHash': HexBytes('0xaf0d2c836fa78f8cb01febd51286bcbb3f50ed21df797044380cf5620e3ae6f3'), 'blockHash': HexBytes('0x994ec1bd25826e08c41610f3226255c95567f958547e8b1dc9bc181c03aa0cef'), 'blockNumber': 142, 'address': '0x3a5552211852532654b5204f408022427dffffd4', 'data': '0x000000000000000000000000b2c82776554b694bac259bc35c29387cd3c077c70000000000000000000000003696b71f71de262b095d51aeea9de5e8880f5c4e', 'topics': [HexBytes('0x998531445404b0df49aad4b4e2cef56293d4e7e97290d2504c4276b065d05c0a')], 'type': 'mined'}\n",
      "0x000000000000000000000000b2c82776554b694bac259bc35c29387cd3c077c70000000000000000000000003696b71f71de262b095d51aeea9de5e8880f5c4e\n",
      "0x3696b71f71de262b095d51aeea9de5e8880f5c4e\n"
     ]
    },
    {
     "name": "stderr",
     "output_type": "stream",
     "text": [
      "[Server] 2018-04-14 14:22:47,712 DEBUG http://localhost:8545 \"POST / HTTP/1.1\" 200 None\n",
      "[Server] 2018-04-14 14:22:49,730 DEBUG http://localhost:8545 \"POST / HTTP/1.1\" 200 None\n"
     ]
    },
    {
     "name": "stdout",
     "output_type": "stream",
     "text": [
      "{'logIndex': 0, 'transactionIndex': 0, 'transactionHash': HexBytes('0x692b5a62011430adbdc1a755448ba3ebdb197123db1de43468cc0603c938b556'), 'blockHash': HexBytes('0x8af4f2cd4315f9c9e72915e1554c4d5b40cfc92643da1f8f300f3c9c2fd29ece'), 'blockNumber': 143, 'address': '0x3696b71F71de262B095D51AeEa9dE5E8880F5C4E', 'data': '0x000000000000000000000000b2c82776554b694bac259bc35c29387cd3c077c7', 'topics': [HexBytes('0x088da4014877956eaab3ff879ed44f468b550e884bf3a2ab3fe27467047f2141')], 'type': 'mined'}\n"
     ]
    },
    {
     "ename": "AttributeError",
     "evalue": "'str' object has no attribute 'get_weights'",
     "output_type": "error",
     "traceback": [
      "\u001b[0;31m---------------------------------------------------------------------------\u001b[0m",
      "\u001b[0;31mAttributeError\u001b[0m                            Traceback (most recent call last)",
      "\u001b[0;32m<ipython-input-17-46f682b948c5>\u001b[0m in \u001b[0;36m<module>\u001b[0;34m()\u001b[0m\n\u001b[0;32m----> 1\u001b[0;31m \u001b[0mprint\u001b[0m\u001b[0;34m(\u001b[0m\u001b[0mclientB\u001b[0m\u001b[0;34m.\u001b[0m\u001b[0mmain\u001b[0m\u001b[0;34m(\u001b[0m\u001b[0;34m)\u001b[0m\u001b[0;34m)\u001b[0m\u001b[0;34m\u001b[0m\u001b[0m\n\u001b[0m",
      "\u001b[0;32m~/Desktop/ychackathon/client.py\u001b[0m in \u001b[0;36mmain\u001b[0;34m(self)\u001b[0m\n\u001b[1;32m    225\u001b[0m             \u001b[0mweights\u001b[0m\u001b[0;34m[\u001b[0m\u001b[0mname\u001b[0m\u001b[0;34m]\u001b[0m \u001b[0;34m=\u001b[0m \u001b[0mnp\u001b[0m\u001b[0;34m.\u001b[0m\u001b[0marray\u001b[0m\u001b[0;34m(\u001b[0m\u001b[0mflattened\u001b[0m\u001b[0;34m[\u001b[0m\u001b[0mindex\u001b[0m\u001b[0;34m:\u001b[0m\u001b[0mindex\u001b[0m\u001b[0;34m+\u001b[0m\u001b[0msize\u001b[0m\u001b[0;34m]\u001b[0m\u001b[0;34m)\u001b[0m\u001b[0;34m.\u001b[0m\u001b[0mreshape\u001b[0m\u001b[0;34m(\u001b[0m\u001b[0mshape\u001b[0m\u001b[0;34m)\u001b[0m\u001b[0;34m\u001b[0m\u001b[0m\n\u001b[1;32m    226\u001b[0m             \u001b[0mindex\u001b[0m \u001b[0;34m+=\u001b[0m \u001b[0msize\u001b[0m\u001b[0;34m\u001b[0m\u001b[0m\n\u001b[0;32m--> 227\u001b[0;31m         \u001b[0;32mreturn\u001b[0m \u001b[0mweights\u001b[0m\u001b[0;34m\u001b[0m\u001b[0m\n\u001b[0m\u001b[1;32m    228\u001b[0m \u001b[0;34m\u001b[0m\u001b[0m\n\u001b[1;32m    229\u001b[0m     \u001b[0;32mdef\u001b[0m \u001b[0mget_checkpoints_folder\u001b[0m\u001b[0;34m(\u001b[0m\u001b[0mself\u001b[0m\u001b[0;34m)\u001b[0m\u001b[0;34m:\u001b[0m\u001b[0;34m\u001b[0m\u001b[0m\n",
      "\u001b[0;32m~/Desktop/ychackathon/client.py\u001b[0m in \u001b[0;36mfilter_set\u001b[0;34m(self, event_sig, contract_addr, handler)\u001b[0m\n\u001b[1;32m    214\u001b[0m     \u001b[0;32mdef\u001b[0m \u001b[0mflatten_weights\u001b[0m\u001b[0;34m(\u001b[0m\u001b[0mself\u001b[0m\u001b[0;34m,\u001b[0m \u001b[0mweights\u001b[0m\u001b[0;34m,\u001b[0m \u001b[0mfactor\u001b[0m\u001b[0;34m=\u001b[0m\u001b[0;36m1e10\u001b[0m\u001b[0;34m)\u001b[0m\u001b[0;34m:\u001b[0m\u001b[0;34m\u001b[0m\u001b[0m\n\u001b[1;32m    215\u001b[0m         \u001b[0mflattened\u001b[0m \u001b[0;34m=\u001b[0m \u001b[0;34m[\u001b[0m\u001b[0;34m]\u001b[0m\u001b[0;34m\u001b[0m\u001b[0m\n\u001b[0;32m--> 216\u001b[0;31m         \u001b[0;32mfor\u001b[0m \u001b[0m_\u001b[0m\u001b[0;34m,\u001b[0m \u001b[0mtensor\u001b[0m \u001b[0;32min\u001b[0m \u001b[0msorted\u001b[0m\u001b[0;34m(\u001b[0m\u001b[0mweights\u001b[0m\u001b[0;34m.\u001b[0m\u001b[0mitems\u001b[0m\u001b[0;34m(\u001b[0m\u001b[0;34m)\u001b[0m\u001b[0;34m)\u001b[0m\u001b[0;34m:\u001b[0m\u001b[0;34m\u001b[0m\u001b[0m\n\u001b[0m\u001b[1;32m    217\u001b[0m             \u001b[0mflattened\u001b[0m\u001b[0;34m.\u001b[0m\u001b[0mextend\u001b[0m\u001b[0;34m(\u001b[0m\u001b[0mtensor\u001b[0m\u001b[0;34m.\u001b[0m\u001b[0mflatten\u001b[0m\u001b[0;34m(\u001b[0m\u001b[0;34m)\u001b[0m\u001b[0;34m.\u001b[0m\u001b[0mtolist\u001b[0m\u001b[0;34m(\u001b[0m\u001b[0;34m)\u001b[0m\u001b[0;34m)\u001b[0m\u001b[0;34m\u001b[0m\u001b[0m\n\u001b[1;32m    218\u001b[0m         \u001b[0;32mreturn\u001b[0m \u001b[0;34m[\u001b[0m\u001b[0mint\u001b[0m\u001b[0;34m(\u001b[0m\u001b[0mn\u001b[0m\u001b[0;34m*\u001b[0m\u001b[0mfactor\u001b[0m\u001b[0;34m)\u001b[0m \u001b[0;32mfor\u001b[0m \u001b[0mn\u001b[0m \u001b[0;32min\u001b[0m \u001b[0mflattened\u001b[0m\u001b[0;34m]\u001b[0m\u001b[0;34m\u001b[0m\u001b[0m\n",
      "\u001b[0;32m~/Desktop/ychackathon/client.py\u001b[0m in \u001b[0;36mhandle_ClientSelected_event\u001b[0;34m(self, event)\u001b[0m\n\u001b[1;32m    139\u001b[0m     \u001b[0;32mdef\u001b[0m \u001b[0mhandle_ClientSelected_event\u001b[0m\u001b[0;34m(\u001b[0m\u001b[0mself\u001b[0m\u001b[0;34m,\u001b[0m \u001b[0mevent\u001b[0m\u001b[0;34m)\u001b[0m\u001b[0;34m:\u001b[0m\u001b[0;34m\u001b[0m\u001b[0m\n\u001b[1;32m    140\u001b[0m         \u001b[0;31m#TODO: get weights and config from event\u001b[0m\u001b[0;34m\u001b[0m\u001b[0;34m\u001b[0m\u001b[0m\n\u001b[0;32m--> 141\u001b[0;31m         \u001b[0;31m#weights will come from the smart contract's variable currentWeights[]\u001b[0m\u001b[0;34m\u001b[0m\u001b[0;34m\u001b[0m\u001b[0m\n\u001b[0m\u001b[1;32m    142\u001b[0m \u001b[0;34m\u001b[0m\u001b[0m\n\u001b[1;32m    143\u001b[0m         \u001b[0mweights\u001b[0m \u001b[0;34m=\u001b[0m \u001b[0mevent\u001b[0m\u001b[0;34m.\u001b[0m\u001b[0mget_weights\u001b[0m\u001b[0;34m(\u001b[0m\u001b[0;34m)\u001b[0m\u001b[0;34m\u001b[0m\u001b[0m\n",
      "\u001b[0;31mAttributeError\u001b[0m: 'str' object has no attribute 'get_weights'"
     ]
    }
   ],
   "source": [
    "print(clientB.main())"
   ]
  },
  {
   "cell_type": "code",
   "execution_count": null,
   "metadata": {},
   "outputs": [],
   "source": []
  }
 ],
 "metadata": {
  "kernelspec": {
   "display_name": "Python 3",
   "language": "python",
   "name": "python3"
  },
  "language_info": {
   "codemirror_mode": {
    "name": "ipython",
    "version": 3
   },
   "file_extension": ".py",
   "mimetype": "text/x-python",
   "name": "python",
   "nbconvert_exporter": "python",
   "pygments_lexer": "ipython3",
   "version": "3.6.4"
  }
 },
 "nbformat": 4,
 "nbformat_minor": 2
}
