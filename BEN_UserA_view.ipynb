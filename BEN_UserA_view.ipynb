{
 "cells": [
  {
   "cell_type": "code",
   "execution_count": 2,
   "metadata": {},
   "outputs": [
    {
     "name": "stdout",
     "output_type": "stream",
     "text": [
      "Extracting MNIST-data/train-images-idx3-ubyte.gz\n",
      "Extracting MNIST-data/train-labels-idx1-ubyte.gz\n",
      "Extracting MNIST-data/t10k-images-idx3-ubyte.gz\n",
      "Extracting MNIST-data/t10k-labels-idx1-ubyte.gz\n"
     ]
    }
   ],
   "source": [
    "from web3 import Web3, HTTPProvider\n",
    "from client import Client\n",
    "import experiment\n",
    "\n",
    "k = 1\n",
    "m = 'perceptron'\n",
    "d = 'iid'\n",
    "\n",
    "web3 = Web3(HTTPProvider('http://localhost:8545'))\n",
    "\n",
    "X_train_list, y_train_list, X_test, y_test = experiment.get_datasets(k, m, d)"
   ]
  },
  {
   "cell_type": "code",
   "execution_count": 3,
   "metadata": {},
   "outputs": [
    {
     "name": "stderr",
     "output_type": "stream",
     "text": [
      "[Server] 2018-04-14 12:55:08,404 DEBUG Starting new HTTP connection (1): localhost\n",
      "[Server] 2018-04-14 12:55:08,412 DEBUG http://localhost:8545 \"POST / HTTP/1.1\" 200 None\n",
      "[Server] 2018-04-14 12:55:08,423 DEBUG http://localhost:8545 \"POST / HTTP/1.1\" 200 None\n",
      "[Server] 2018-04-14 12:55:08,433 DEBUG http://localhost:8545 \"POST / HTTP/1.1\" 200 None\n",
      "[Server] 2018-04-14 12:55:08,459 DEBUG http://localhost:8545 \"POST / HTTP/1.1\" 200 None\n",
      "[Server] 2018-04-14 12:55:08,468 DEBUG http://localhost:8545 \"POST / HTTP/1.1\" 200 None\n",
      "[Server] 2018-04-14 12:55:08,477 DEBUG http://localhost:8545 \"POST / HTTP/1.1\" 200 None\n",
      "[Server] 2018-04-14 12:55:08,520 DEBUG http://localhost:8545 \"POST / HTTP/1.1\" 200 None\n",
      "[Server] 2018-04-14 12:55:08,531 DEBUG http://localhost:8545 \"POST / HTTP/1.1\" 200 None\n"
     ]
    },
    {
     "name": "stdout",
     "output_type": "stream",
     "text": [
      "Client Address: 0xaAeE30435a92E4E89ceA998d11C6f4205a8EC965\n",
      "9999999\n"
     ]
    }
   ],
   "source": [
    "DELEGATOR_ADDRESS = '0x6bB1268B4C98B5352217594f1D449BCCF7699E03'\n",
    "\n",
    "clientB = Client(1, X_train_list, y_train_list, web3, delegatorAddress=DELEGATOR_ADDRESS)\n",
    "clientB.get_money()"
   ]
  },
  {
   "cell_type": "code",
   "execution_count": null,
   "metadata": {},
   "outputs": [],
   "source": [
    "print(clientB.main())"
   ]
  },
  {
   "cell_type": "code",
   "execution_count": null,
   "metadata": {},
   "outputs": [],
   "source": []
  }
 ],
 "metadata": {
  "kernelspec": {
   "display_name": "Python 3",
   "language": "python",
   "name": "python3"
  },
  "language_info": {
   "codemirror_mode": {
    "name": "ipython",
    "version": 3
   },
   "file_extension": ".py",
   "mimetype": "text/x-python",
   "name": "python",
   "nbconvert_exporter": "python",
   "pygments_lexer": "ipython3",
   "version": "3.6.4"
  }
 },
 "nbformat": 4,
 "nbformat_minor": 2
}
